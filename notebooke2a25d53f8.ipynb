{
 "cells": [
  {
   "cell_type": "code",
   "execution_count": 1,
   "id": "05284d97",
   "metadata": {
    "_cell_guid": "b1076dfc-b9ad-4769-8c92-a6c4dae69d19",
    "_uuid": "8f2839f25d086af736a60e9eeb907d3b93b6e0e5",
    "execution": {
     "iopub.execute_input": "2021-11-06T15:27:27.990238Z",
     "iopub.status.busy": "2021-11-06T15:27:27.988998Z",
     "iopub.status.idle": "2021-11-06T15:27:31.831109Z",
     "shell.execute_reply": "2021-11-06T15:27:31.831706Z",
     "shell.execute_reply.started": "2021-10-22T21:56:03.26741Z"
    },
    "papermill": {
     "duration": 3.891391,
     "end_time": "2021-11-06T15:27:31.832092",
     "exception": false,
     "start_time": "2021-11-06T15:27:27.940701",
     "status": "completed"
    },
    "tags": []
   },
   "outputs": [],
   "source": [
    "# This Python 3 environment comes with many helpful analytics libraries installed\n",
    "# It is defined by the kaggle/python Docker image: https://github.com/kaggle/docker-python\n",
    "# For example, here's several helpful packages to load\n",
    "\n",
    "import numpy as np # linear algebra\n",
    "import pandas as pd # data processing, CSV file I/O (e.g. pd.read_csv)\n",
    "\n",
    "# Input data files are available in the read-only \"../input/\" directory\n",
    "# For example, running this (by clicking run or pressing Shift+Enter) will list all files under the input directory\n",
    "\n",
    "import os\n",
    "for dirname, _, filenames in os.walk('/kaggle/input'):\n",
    "    for filename in filenames:\n",
    "        y = '4'\n",
    "        #print(os.path.join(dirname, filename))\n",
    "\n",
    "# You can write up to 20GB to the current directory (/kaggle/working/) that gets preserved as output when you create a version using \"Save & Run All\" \n",
    "# You can also write temporary files to /kaggle/temp/, but they won't be saved outside of the current session"
   ]
  },
  {
   "cell_type": "code",
   "execution_count": 2,
   "id": "7c369e14",
   "metadata": {
    "execution": {
     "iopub.execute_input": "2021-11-06T15:27:31.926074Z",
     "iopub.status.busy": "2021-11-06T15:27:31.925360Z",
     "iopub.status.idle": "2021-11-06T15:27:38.700824Z",
     "shell.execute_reply": "2021-11-06T15:27:38.702071Z",
     "shell.execute_reply.started": "2021-11-06T14:39:52.925421Z"
    },
    "papermill": {
     "duration": 6.824745,
     "end_time": "2021-11-06T15:27:38.702367",
     "exception": false,
     "start_time": "2021-11-06T15:27:31.877622",
     "status": "completed"
    },
    "tags": []
   },
   "outputs": [],
   "source": [
    "import numpy as np\n",
    "import os\n",
    "import PIL\n",
    "import PIL.Image\n",
    "import tensorflow as tf\n",
    "import tensorflow_datasets as tfds\n",
    "import pandas as pd\n",
    "import matplotlib.pyplot as plt"
   ]
  },
  {
   "cell_type": "code",
   "execution_count": 3,
   "id": "5559defb",
   "metadata": {
    "execution": {
     "iopub.execute_input": "2021-11-06T15:27:38.806467Z",
     "iopub.status.busy": "2021-11-06T15:27:38.804551Z",
     "iopub.status.idle": "2021-11-06T15:27:38.808702Z",
     "shell.execute_reply": "2021-11-06T15:27:38.809384Z",
     "shell.execute_reply.started": "2021-11-06T14:39:59.392525Z"
    },
    "papermill": {
     "duration": 0.053507,
     "end_time": "2021-11-06T15:27:38.809586",
     "exception": false,
     "start_time": "2021-11-06T15:27:38.756079",
     "status": "completed"
    },
    "tags": []
   },
   "outputs": [],
   "source": [
    "import pathlib\n",
    "\n",
    "data_dir = '/kaggle/input/arabic-hwr-ai-pro-intake1/train/'\n",
    "data_dir = pathlib.Path(data_dir)\n"
   ]
  },
  {
   "cell_type": "code",
   "execution_count": 4,
   "id": "241a4aaa",
   "metadata": {
    "execution": {
     "iopub.execute_input": "2021-11-06T15:27:38.898108Z",
     "iopub.status.busy": "2021-11-06T15:27:38.897126Z",
     "iopub.status.idle": "2021-11-06T15:27:38.904946Z",
     "shell.execute_reply": "2021-11-06T15:27:38.905471Z",
     "shell.execute_reply.started": "2021-11-06T14:39:59.401926Z"
    },
    "papermill": {
     "duration": 0.053506,
     "end_time": "2021-11-06T15:27:38.905636",
     "exception": false,
     "start_time": "2021-11-06T15:27:38.852130",
     "status": "completed"
    },
    "tags": []
   },
   "outputs": [
    {
     "data": {
      "text/plain": [
       "PosixPath('/kaggle/input/arabic-hwr-ai-pro-intake1/train')"
      ]
     },
     "execution_count": 4,
     "metadata": {},
     "output_type": "execute_result"
    }
   ],
   "source": [
    "data_dir"
   ]
  },
  {
   "cell_type": "code",
   "execution_count": 5,
   "id": "94f1ffda",
   "metadata": {
    "execution": {
     "iopub.execute_input": "2021-11-06T15:27:38.995963Z",
     "iopub.status.busy": "2021-11-06T15:27:38.994968Z",
     "iopub.status.idle": "2021-11-06T15:27:38.998845Z",
     "shell.execute_reply": "2021-11-06T15:27:38.999480Z",
     "shell.execute_reply.started": "2021-11-06T14:39:59.419881Z"
    },
    "papermill": {
     "duration": 0.050573,
     "end_time": "2021-11-06T15:27:38.999650",
     "exception": false,
     "start_time": "2021-11-06T15:27:38.949077",
     "status": "completed"
    },
    "tags": []
   },
   "outputs": [],
   "source": [
    "batch_size = 32\n",
    "img_height = 32\n",
    "img_width = 32\n"
   ]
  },
  {
   "cell_type": "code",
   "execution_count": 6,
   "id": "146e69dc",
   "metadata": {
    "execution": {
     "iopub.execute_input": "2021-11-06T15:27:39.089537Z",
     "iopub.status.busy": "2021-11-06T15:27:39.088576Z",
     "iopub.status.idle": "2021-11-06T15:27:39.144083Z",
     "shell.execute_reply": "2021-11-06T15:27:39.143523Z",
     "shell.execute_reply.started": "2021-11-06T14:39:59.429764Z"
    },
    "papermill": {
     "duration": 0.101417,
     "end_time": "2021-11-06T15:27:39.144238",
     "exception": false,
     "start_time": "2021-11-06T15:27:39.042821",
     "status": "completed"
    },
    "tags": []
   },
   "outputs": [],
   "source": [
    "\n",
    "import glob\n",
    "filelist = glob.glob('/kaggle/input/arabic-hwr-ai-pro-intake1/train/*.png')\n"
   ]
  },
  {
   "cell_type": "code",
   "execution_count": 7,
   "id": "ff0726e6",
   "metadata": {
    "execution": {
     "iopub.execute_input": "2021-11-06T15:27:39.240402Z",
     "iopub.status.busy": "2021-11-06T15:27:39.239701Z",
     "iopub.status.idle": "2021-11-06T15:27:39.242803Z",
     "shell.execute_reply": "2021-11-06T15:27:39.242157Z",
     "shell.execute_reply.started": "2021-11-06T14:39:59.663652Z"
    },
    "papermill": {
     "duration": 0.05625,
     "end_time": "2021-11-06T15:27:39.242965",
     "exception": false,
     "start_time": "2021-11-06T15:27:39.186715",
     "status": "completed"
    },
    "tags": []
   },
   "outputs": [],
   "source": [
    "\n",
    "filelist.sort()"
   ]
  },
  {
   "cell_type": "code",
   "execution_count": 8,
   "id": "d07978d0",
   "metadata": {
    "execution": {
     "iopub.execute_input": "2021-11-06T15:27:39.397662Z",
     "iopub.status.busy": "2021-11-06T15:27:39.396972Z",
     "iopub.status.idle": "2021-11-06T15:28:19.319939Z",
     "shell.execute_reply": "2021-11-06T15:28:19.319184Z",
     "shell.execute_reply.started": "2021-11-06T14:39:59.674194Z"
    },
    "papermill": {
     "duration": 40.033786,
     "end_time": "2021-11-06T15:28:19.320096",
     "exception": false,
     "start_time": "2021-11-06T15:27:39.286310",
     "status": "completed"
    },
    "tags": []
   },
   "outputs": [],
   "source": [
    "\n",
    "# get ndarray of [no. of images, height, width] dimentions. (to grayscale to avoid 4d matrix)\n",
    "from PIL import Image, ImageOps\n",
    "#x = np.array([np.array(ImageOps.grayscale(Image.open(fname))) for fname in filelist])\n",
    "x = np.array([np.array(Image.open(fname)) for fname in filelist])\n",
    "\n",
    "#gray_image = ImageOps.grayscale(og_image)\n"
   ]
  },
  {
   "cell_type": "code",
   "execution_count": 9,
   "id": "a2314372",
   "metadata": {
    "execution": {
     "iopub.execute_input": "2021-11-06T15:28:19.411642Z",
     "iopub.status.busy": "2021-11-06T15:28:19.410785Z",
     "iopub.status.idle": "2021-11-06T15:28:19.413442Z",
     "shell.execute_reply": "2021-11-06T15:28:19.412811Z",
     "shell.execute_reply.started": "2021-11-06T14:40:39.906942Z"
    },
    "papermill": {
     "duration": 0.048936,
     "end_time": "2021-11-06T15:28:19.413575",
     "exception": false,
     "start_time": "2021-11-06T15:28:19.364639",
     "status": "completed"
    },
    "tags": []
   },
   "outputs": [],
   "source": [
    "#plt.imshow(x[0])"
   ]
  },
  {
   "cell_type": "code",
   "execution_count": 10,
   "id": "10cc6125",
   "metadata": {
    "execution": {
     "iopub.execute_input": "2021-11-06T15:28:19.504193Z",
     "iopub.status.busy": "2021-11-06T15:28:19.503370Z",
     "iopub.status.idle": "2021-11-06T15:28:19.507163Z",
     "shell.execute_reply": "2021-11-06T15:28:19.506661Z",
     "shell.execute_reply.started": "2021-11-04T20:18:20.644395Z"
    },
    "papermill": {
     "duration": 0.051299,
     "end_time": "2021-11-06T15:28:19.507304",
     "exception": false,
     "start_time": "2021-11-06T15:28:19.456005",
     "status": "completed"
    },
    "tags": []
   },
   "outputs": [
    {
     "data": {
      "text/plain": [
       "'\\n# make sure all images are 32x32\\n#im = Image.open(filelist[0])\\nfor i in filelist:\\n    img = Image.open(i)\\n    if img.size == (32,32):\\n        print(i)\\n        break\\n'"
      ]
     },
     "execution_count": 10,
     "metadata": {},
     "output_type": "execute_result"
    }
   ],
   "source": [
    "\"\"\"\n",
    "# make sure all images are 32x32\n",
    "#im = Image.open(filelist[0])\n",
    "for i in filelist:\n",
    "    img = Image.open(i)\n",
    "    if img.size == (32,32):\n",
    "        print(i)\n",
    "        break\n",
    "\"\"\""
   ]
  },
  {
   "cell_type": "code",
   "execution_count": 11,
   "id": "3a4f7de3",
   "metadata": {
    "execution": {
     "iopub.execute_input": "2021-11-06T15:28:19.597435Z",
     "iopub.status.busy": "2021-11-06T15:28:19.596598Z",
     "iopub.status.idle": "2021-11-06T15:28:19.599950Z",
     "shell.execute_reply": "2021-11-06T15:28:19.599269Z",
     "shell.execute_reply.started": "2021-11-04T20:18:20.661956Z"
    },
    "papermill": {
     "duration": 0.050223,
     "end_time": "2021-11-06T15:28:19.600088",
     "exception": false,
     "start_time": "2021-11-06T15:28:19.549865",
     "status": "completed"
    },
    "tags": []
   },
   "outputs": [],
   "source": [
    "#x.shape"
   ]
  },
  {
   "cell_type": "code",
   "execution_count": 12,
   "id": "196c3f3a",
   "metadata": {
    "execution": {
     "iopub.execute_input": "2021-11-06T15:28:19.690963Z",
     "iopub.status.busy": "2021-11-06T15:28:19.690230Z",
     "iopub.status.idle": "2021-11-06T15:28:19.718136Z",
     "shell.execute_reply": "2021-11-06T15:28:19.717562Z",
     "shell.execute_reply.started": "2021-11-06T14:40:39.913878Z"
    },
    "papermill": {
     "duration": 0.075543,
     "end_time": "2021-11-06T15:28:19.718297",
     "exception": false,
     "start_time": "2021-11-06T15:28:19.642754",
     "status": "completed"
    },
    "tags": []
   },
   "outputs": [],
   "source": [
    "labelsCol = pd.read_csv('/kaggle/input/arabic-hwr-ai-pro-intake1/train.csv')['label']"
   ]
  },
  {
   "cell_type": "code",
   "execution_count": 13,
   "id": "fd8169e7",
   "metadata": {
    "execution": {
     "iopub.execute_input": "2021-11-06T15:28:19.827128Z",
     "iopub.status.busy": "2021-11-06T15:28:19.826262Z",
     "iopub.status.idle": "2021-11-06T15:28:20.269712Z",
     "shell.execute_reply": "2021-11-06T15:28:20.269071Z",
     "shell.execute_reply.started": "2021-11-06T14:40:39.955229Z"
    },
    "papermill": {
     "duration": 0.50746,
     "end_time": "2021-11-06T15:28:20.269854",
     "exception": false,
     "start_time": "2021-11-06T15:28:19.762394",
     "status": "completed"
    },
    "tags": []
   },
   "outputs": [
    {
     "data": {
      "text/plain": [
       "(array([480., 480., 480., 480., 480., 480., 480., 480., 480., 480., 480.,\n",
       "        480., 480., 480., 480., 480., 480., 480., 480., 480., 480., 480.,\n",
       "        480., 480., 480., 480., 480., 480.]),\n",
       " array([ 1.        ,  1.96428571,  2.92857143,  3.89285714,  4.85714286,\n",
       "         5.82142857,  6.78571429,  7.75      ,  8.71428571,  9.67857143,\n",
       "        10.64285714, 11.60714286, 12.57142857, 13.53571429, 14.5       ,\n",
       "        15.46428571, 16.42857143, 17.39285714, 18.35714286, 19.32142857,\n",
       "        20.28571429, 21.25      , 22.21428571, 23.17857143, 24.14285714,\n",
       "        25.10714286, 26.07142857, 27.03571429, 28.        ]),\n",
       " <BarContainer object of 28 artists>)"
      ]
     },
     "execution_count": 13,
     "metadata": {},
     "output_type": "execute_result"
    },
    {
     "data": {
      "image/png": "[encoded data removed]",
      "text/plain": [
       "<Figure size 432x288 with 1 Axes>"
      ]
     },
     "metadata": {
      "needs_background": "light"
     },
     "output_type": "display_data"
    }
   ],
   "source": [
    "plt.hist(labelsCol, bins=28)"
   ]
  },
  {
   "cell_type": "code",
   "execution_count": 14,
   "id": "3d14d2a7",
   "metadata": {
    "execution": {
     "iopub.execute_input": "2021-11-06T15:28:20.364071Z",
     "iopub.status.busy": "2021-11-06T15:28:20.363274Z",
     "iopub.status.idle": "2021-11-06T15:28:20.366400Z",
     "shell.execute_reply": "2021-11-06T15:28:20.366876Z",
     "shell.execute_reply.started": "2021-11-06T14:40:40.404922Z"
    },
    "papermill": {
     "duration": 0.053468,
     "end_time": "2021-11-06T15:28:20.367047",
     "exception": false,
     "start_time": "2021-11-06T15:28:20.313579",
     "status": "completed"
    },
    "tags": []
   },
   "outputs": [
    {
     "data": {
      "text/plain": [
       "(13440,)"
      ]
     },
     "execution_count": 14,
     "metadata": {},
     "output_type": "execute_result"
    }
   ],
   "source": [
    "labelsCol = np.array(labelsCol)\n",
    "labelsCol.shape"
   ]
  },
  {
   "cell_type": "code",
   "execution_count": 15,
   "id": "a010aeae",
   "metadata": {
    "execution": {
     "iopub.execute_input": "2021-11-06T15:28:20.461135Z",
     "iopub.status.busy": "2021-11-06T15:28:20.460276Z",
     "iopub.status.idle": "2021-11-06T15:28:21.286858Z",
     "shell.execute_reply": "2021-11-06T15:28:21.287457Z",
     "shell.execute_reply.started": "2021-11-06T14:40:40.414977Z"
    },
    "papermill": {
     "duration": 0.876496,
     "end_time": "2021-11-06T15:28:21.287649",
     "exception": false,
     "start_time": "2021-11-06T15:28:20.411153",
     "status": "completed"
    },
    "tags": []
   },
   "outputs": [],
   "source": [
    "from sklearn.model_selection import train_test_split\n",
    "\n",
    "X_train, X_test, y_train, y_test = train_test_split(x, labelsCol, test_size=0.2, random_state=42)"
   ]
  },
  {
   "cell_type": "code",
   "execution_count": 16,
   "id": "28ef8982",
   "metadata": {
    "execution": {
     "iopub.execute_input": "2021-11-06T15:28:21.381169Z",
     "iopub.status.busy": "2021-11-06T15:28:21.380177Z",
     "iopub.status.idle": "2021-11-06T15:28:21.569715Z",
     "shell.execute_reply": "2021-11-06T15:28:21.570241Z",
     "shell.execute_reply.started": "2021-11-06T14:40:41.181297Z"
    },
    "papermill": {
     "duration": 0.238547,
     "end_time": "2021-11-06T15:28:21.570429",
     "exception": false,
     "start_time": "2021-11-06T15:28:21.331882",
     "status": "completed"
    },
    "tags": []
   },
   "outputs": [],
   "source": [
    "X_train = X_train / 255\n",
    "X_test = X_test / 255"
   ]
  },
  {
   "cell_type": "code",
   "execution_count": 17,
   "id": "dcc649e5",
   "metadata": {
    "execution": {
     "iopub.execute_input": "2021-11-06T15:28:21.665421Z",
     "iopub.status.busy": "2021-11-06T15:28:21.664355Z",
     "iopub.status.idle": "2021-11-06T15:28:21.669380Z",
     "shell.execute_reply": "2021-11-06T15:28:21.668739Z",
     "shell.execute_reply.started": "2021-11-06T14:40:41.376879Z"
    },
    "papermill": {
     "duration": 0.054932,
     "end_time": "2021-11-06T15:28:21.669520",
     "exception": false,
     "start_time": "2021-11-06T15:28:21.614588",
     "status": "completed"
    },
    "tags": []
   },
   "outputs": [],
   "source": [
    "#from keras.utils import to_categorical\n",
    "#number_of_classes = 28\n",
    "\n",
    "# making labels from 0 to 27 instead of 1 to 28\n",
    "y_train = y_train - 1\n",
    "y_test = y_test - 1"
   ]
  },
  {
   "cell_type": "code",
   "execution_count": 18,
   "id": "9101ccc5",
   "metadata": {
    "execution": {
     "iopub.execute_input": "2021-11-06T15:28:21.765710Z",
     "iopub.status.busy": "2021-11-06T15:28:21.765059Z",
     "iopub.status.idle": "2021-11-06T15:28:21.769379Z",
     "shell.execute_reply": "2021-11-06T15:28:21.769878Z",
     "shell.execute_reply.started": "2021-11-06T14:40:41.383278Z"
    },
    "papermill": {
     "duration": 0.05502,
     "end_time": "2021-11-06T15:28:21.770047",
     "exception": false,
     "start_time": "2021-11-06T15:28:21.715027",
     "status": "completed"
    },
    "tags": []
   },
   "outputs": [
    {
     "data": {
      "text/plain": [
       "(10752, 32, 32, 4)"
      ]
     },
     "execution_count": 18,
     "metadata": {},
     "output_type": "execute_result"
    }
   ],
   "source": [
    "X_train.shape"
   ]
  },
  {
   "cell_type": "code",
   "execution_count": 19,
   "id": "342bf188",
   "metadata": {
    "execution": {
     "iopub.execute_input": "2021-11-06T15:28:21.868135Z",
     "iopub.status.busy": "2021-11-06T15:28:21.867269Z",
     "iopub.status.idle": "2021-11-06T15:28:21.870435Z",
     "shell.execute_reply": "2021-11-06T15:28:21.870919Z",
     "shell.execute_reply.started": "2021-11-04T20:18:22.431417Z"
    },
    "papermill": {
     "duration": 0.054046,
     "end_time": "2021-11-06T15:28:21.871096",
     "exception": false,
     "start_time": "2021-11-06T15:28:21.817050",
     "status": "completed"
    },
    "tags": []
   },
   "outputs": [
    {
     "data": {
      "text/plain": [
       "'\\nfrom tensorflow.keras import Sequential\\nfrom tensorflow.keras.layers import Dense, Flatten,Dropout\\nfrom tensorflow.keras import regularizers\\n'"
      ]
     },
     "execution_count": 19,
     "metadata": {},
     "output_type": "execute_result"
    }
   ],
   "source": [
    "\"\"\"\n",
    "from tensorflow.keras import Sequential\n",
    "from tensorflow.keras.layers import Dense, Flatten,Dropout\n",
    "from tensorflow.keras import regularizers\n",
    "\"\"\""
   ]
  },
  {
   "cell_type": "code",
   "execution_count": 20,
   "id": "8ce07854",
   "metadata": {
    "execution": {
     "iopub.execute_input": "2021-11-06T15:28:21.967301Z",
     "iopub.status.busy": "2021-11-06T15:28:21.966523Z",
     "iopub.status.idle": "2021-11-06T15:28:21.969616Z",
     "shell.execute_reply": "2021-11-06T15:28:21.970108Z",
     "shell.execute_reply.started": "2021-11-04T20:18:22.446721Z"
    },
    "papermill": {
     "duration": 0.054309,
     "end_time": "2021-11-06T15:28:21.970274",
     "exception": false,
     "start_time": "2021-11-06T15:28:21.915965",
     "status": "completed"
    },
    "tags": []
   },
   "outputs": [
    {
     "data": {
      "text/plain": [
       "'\\nmodel = Sequential([Flatten(input_shape=(32,32)), \\n                    Dense(256, activation=tf.nn.relu, kernel_regularizer=regularizers.l2(0.003)), \\n                    \\n                    Dense(256, activation=tf.nn.relu), \\n                    \\n                    Dense(64, activation=tf.nn.relu),\\n\\n                    Dense(28, activation=tf.nn.softmax)])\\n'"
      ]
     },
     "execution_count": 20,
     "metadata": {},
     "output_type": "execute_result"
    }
   ],
   "source": [
    "# feed forward network:\n",
    "\"\"\"\n",
    "model = Sequential([Flatten(input_shape=(32,32)), \n",
    "                    Dense(256, activation=tf.nn.relu, kernel_regularizer=regularizers.l2(0.003)), \n",
    "                    \n",
    "                    Dense(256, activation=tf.nn.relu), \n",
    "                    \n",
    "                    Dense(64, activation=tf.nn.relu),\n",
    "\n",
    "                    Dense(28, activation=tf.nn.softmax)])\n",
    "\"\"\""
   ]
  },
  {
   "cell_type": "code",
   "execution_count": 21,
   "id": "b629a61a",
   "metadata": {
    "execution": {
     "iopub.execute_input": "2021-11-06T15:28:22.065133Z",
     "iopub.status.busy": "2021-11-06T15:28:22.064203Z",
     "iopub.status.idle": "2021-11-06T15:28:22.067184Z",
     "shell.execute_reply": "2021-11-06T15:28:22.067797Z",
     "shell.execute_reply.started": "2021-11-04T20:18:22.465001Z"
    },
    "papermill": {
     "duration": 0.052213,
     "end_time": "2021-11-06T15:28:22.067973",
     "exception": false,
     "start_time": "2021-11-06T15:28:22.015760",
     "status": "completed"
    },
    "tags": []
   },
   "outputs": [],
   "source": [
    "#model.summary()"
   ]
  },
  {
   "cell_type": "code",
   "execution_count": null,
   "id": "5aa45ad8",
   "metadata": {
    "papermill": {
     "duration": 0.046357,
     "end_time": "2021-11-06T15:28:22.160678",
     "exception": false,
     "start_time": "2021-11-06T15:28:22.114321",
     "status": "completed"
    },
    "tags": []
   },
   "outputs": [],
   "source": []
  },
  {
   "cell_type": "code",
   "execution_count": 22,
   "id": "2479cc30",
   "metadata": {
    "execution": {
     "iopub.execute_input": "2021-11-06T15:28:22.254946Z",
     "iopub.status.busy": "2021-11-06T15:28:22.253969Z",
     "iopub.status.idle": "2021-11-06T15:28:22.258986Z",
     "shell.execute_reply": "2021-11-06T15:28:22.259488Z",
     "shell.execute_reply.started": "2021-11-04T20:18:22.476039Z"
    },
    "papermill": {
     "duration": 0.053795,
     "end_time": "2021-11-06T15:28:22.259653",
     "exception": false,
     "start_time": "2021-11-06T15:28:22.205858",
     "status": "completed"
    },
    "tags": []
   },
   "outputs": [
    {
     "data": {
      "text/plain": [
       "\"\\nmodel.compile(optimizer = tf.optimizers.Adam(),\\n              loss = 'sparse_categorical_crossentropy',\\n              metrics=['accuracy'])\\n\""
      ]
     },
     "execution_count": 22,
     "metadata": {},
     "output_type": "execute_result"
    }
   ],
   "source": [
    "\"\"\"\n",
    "model.compile(optimizer = tf.optimizers.Adam(),\n",
    "              loss = 'sparse_categorical_crossentropy',\n",
    "              metrics=['accuracy'])\n",
    "\"\"\""
   ]
  },
  {
   "cell_type": "code",
   "execution_count": 23,
   "id": "244c7e9f",
   "metadata": {
    "execution": {
     "iopub.execute_input": "2021-11-06T15:28:22.353945Z",
     "iopub.status.busy": "2021-11-06T15:28:22.353304Z",
     "iopub.status.idle": "2021-11-06T15:28:23.422769Z",
     "shell.execute_reply": "2021-11-06T15:28:23.422206Z",
     "shell.execute_reply.started": "2021-11-06T14:40:41.396274Z"
    },
    "papermill": {
     "duration": 1.117691,
     "end_time": "2021-11-06T15:28:23.422938",
     "exception": false,
     "start_time": "2021-11-06T15:28:22.305247",
     "status": "completed"
    },
    "tags": []
   },
   "outputs": [],
   "source": [
    "import tensorflow as tf\n",
    "\n",
    "from tensorflow.keras import datasets, layers, models\n",
    "import matplotlib.pyplot as plt"
   ]
  },
  {
   "cell_type": "code",
   "execution_count": 24,
   "id": "9962d2d4",
   "metadata": {
    "execution": {
     "iopub.execute_input": "2021-11-06T15:28:23.520478Z",
     "iopub.status.busy": "2021-11-06T15:28:23.519807Z",
     "iopub.status.idle": "2021-11-06T15:28:23.523392Z",
     "shell.execute_reply": "2021-11-06T15:28:23.522859Z",
     "shell.execute_reply.started": "2021-11-04T20:18:23.659995Z"
    },
    "papermill": {
     "duration": 0.054801,
     "end_time": "2021-11-06T15:28:23.523543",
     "exception": false,
     "start_time": "2021-11-06T15:28:23.468742",
     "status": "completed"
    },
    "tags": []
   },
   "outputs": [
    {
     "data": {
      "text/plain": [
       "\"\\nmodel = models.Sequential()\\nmodel.add(layers.Conv2D(32, (3, 3), activation='relu', input_shape=(32, 32, 4)))\\nmodel.add(layers.MaxPooling2D((2, 2)))\\nmodel.add(layers.Conv2D(64, (3, 3), activation='relu'))\\nmodel.add(layers.MaxPooling2D((2, 2)))\\nmodel.add(layers.Conv2D(64, (3, 3), activation='relu'))\\nmodel.add(layers.Flatten())\\nmodel.add(layers.Dense(28, activation=tf.nn.softmax))\\n\""
      ]
     },
     "execution_count": 24,
     "metadata": {},
     "output_type": "execute_result"
    }
   ],
   "source": [
    "# My new networkkkkkkkkkkk (cnn)\n",
    "\"\"\"\n",
    "model = models.Sequential()\n",
    "model.add(layers.Conv2D(32, (3, 3), activation='relu', input_shape=(32, 32, 4)))\n",
    "model.add(layers.MaxPooling2D((2, 2)))\n",
    "model.add(layers.Conv2D(64, (3, 3), activation='relu'))\n",
    "model.add(layers.MaxPooling2D((2, 2)))\n",
    "model.add(layers.Conv2D(64, (3, 3), activation='relu'))\n",
    "model.add(layers.Flatten())\n",
    "model.add(layers.Dense(28, activation=tf.nn.softmax))\n",
    "\"\"\""
   ]
  },
  {
   "cell_type": "code",
   "execution_count": 25,
   "id": "bbbad11e",
   "metadata": {
    "execution": {
     "iopub.execute_input": "2021-11-06T15:28:23.624418Z",
     "iopub.status.busy": "2021-11-06T15:28:23.623681Z",
     "iopub.status.idle": "2021-11-06T15:28:23.991371Z",
     "shell.execute_reply": "2021-11-06T15:28:23.990703Z",
     "shell.execute_reply.started": "2021-11-06T15:13:40.736928Z"
    },
    "papermill": {
     "duration": 0.4218,
     "end_time": "2021-11-06T15:28:23.991522",
     "exception": false,
     "start_time": "2021-11-06T15:28:23.569722",
     "status": "completed"
    },
    "tags": []
   },
   "outputs": [
    {
     "name": "stderr",
     "output_type": "stream",
     "text": [
      "\n",
      "User settings:\n",
      "\n",
      "   KMP_AFFINITY=granularity=fine,verbose,compact,1,0\n",
      "   KMP_BLOCKTIME=0\n",
      "   KMP_DUPLICATE_LIB_OK=True\n",
      "   KMP_INIT_AT_FORK=FALSE\n",
      "   KMP_SETTINGS=1\n",
      "   KMP_WARNINGS=0\n",
      "\n",
      "Effective settings:\n",
      "\n",
      "   KMP_ABORT_DELAY=0\n",
      "   KMP_ADAPTIVE_LOCK_PROPS='1,1024'\n",
      "   KMP_ALIGN_ALLOC=64\n",
      "   KMP_ALL_THREADPRIVATE=128\n",
      "   KMP_ATOMIC_MODE=2\n",
      "   KMP_BLOCKTIME=0\n",
      "   KMP_CPUINFO_FILE: value is not defined\n",
      "   KMP_DETERMINISTIC_REDUCTION=false\n",
      "   KMP_DEVICE_THREAD_LIMIT=2147483647\n",
      "   KMP_DISP_NUM_BUFFERS=7\n",
      "   KMP_DUPLICATE_LIB_OK=true\n",
      "   KMP_ENABLE_TASK_THROTTLING=true\n",
      "   KMP_FORCE_REDUCTION: value is not defined\n",
      "   KMP_FOREIGN_THREADS_THREADPRIVATE=true\n",
      "   KMP_FORKJOIN_BARRIER='2,2'\n",
      "   KMP_FORKJOIN_BARRIER_PATTERN='hyper,hyper'\n",
      "   KMP_GTID_MODE=3\n",
      "   KMP_HANDLE_SIGNALS=false\n",
      "   KMP_HOT_TEAMS_MAX_LEVEL=1\n",
      "   KMP_HOT_TEAMS_MODE=0\n",
      "   KMP_INIT_AT_FORK=true\n",
      "   KMP_LIBRARY=throughput\n",
      "   KMP_LOCK_KIND=queuing\n",
      "   KMP_MALLOC_POOL_INCR=1M\n",
      "   KMP_NUM_LOCKS_IN_BLOCK=1\n",
      "   KMP_PLAIN_BARRIER='2,2'\n",
      "   KMP_PLAIN_BARRIER_PATTERN='hyper,hyper'\n",
      "   KMP_REDUCTION_BARRIER='1,1'\n",
      "   KMP_REDUCTION_BARRIER_PATTERN='hyper,hyper'\n",
      "   KMP_SCHEDULE='static,balanced;guided,iterative'\n",
      "   KMP_SETTINGS=true\n",
      "   KMP_SPIN_BACKOFF_PARAMS='4096,100'\n",
      "   KMP_STACKOFFSET=64\n",
      "   KMP_STACKPAD=0\n",
      "   KMP_STACKSIZE=8M\n",
      "   KMP_STORAGE_MAP=false\n",
      "   KMP_TASKING=2\n",
      "   KMP_TASKLOOP_MIN_TASKS=0\n",
      "   KMP_TASK_STEALING_CONSTRAINT=1\n",
      "   KMP_TEAMS_THREAD_LIMIT=4\n",
      "   KMP_TOPOLOGY_METHOD=all\n",
      "   KMP_USE_YIELD=1\n",
      "   KMP_VERSION=false\n",
      "   KMP_WARNINGS=false\n",
      "   OMP_AFFINITY_FORMAT='OMP: pid %P tid %i thread %n bound to OS proc set {%A}'\n",
      "   OMP_ALLOCATOR=omp_default_mem_alloc\n",
      "   OMP_CANCELLATION=false\n",
      "   OMP_DEFAULT_DEVICE=0\n",
      "   OMP_DISPLAY_AFFINITY=false\n",
      "   OMP_DISPLAY_ENV=false\n",
      "   OMP_DYNAMIC=false\n",
      "   OMP_MAX_ACTIVE_LEVELS=1\n",
      "   OMP_MAX_TASK_PRIORITY=0\n",
      "   OMP_NESTED: deprecated; max-active-levels-var=1\n",
      "   OMP_NUM_THREADS: value is not defined\n",
      "   OMP_PLACES: value is not defined\n",
      "   OMP_PROC_BIND='intel'\n",
      "   OMP_SCHEDULE='static'\n",
      "   OMP_STACKSIZE=8M\n",
      "   OMP_TARGET_OFFLOAD=DEFAULT\n",
      "   OMP_THREAD_LIMIT=2147483647\n",
      "   OMP_WAIT_POLICY=PASSIVE\n",
      "   KMP_AFFINITY='verbose,warnings,respect,granularity=fine,compact,1,0'\n",
      "\n",
      "2021-11-06 15:28:23.672019: I tensorflow/core/common_runtime/process_util.cc:146] Creating new thread pool with default inter op setting: 2. Tune using inter_op_parallelism_threads for best performance.\n"
     ]
    }
   ],
   "source": [
    "# My new networkkkkkkkkkkk (cnn)\n",
    "\n",
    "# .STARTED EDITING BEFORE DOING BATCH NORM. WILL TRY BATCH NORM W/ PREVIOUS RESULT FIRST.\n",
    "\n",
    "kernel_initializer = 'uniform'\n",
    "model = models.Sequential()\n",
    "\n",
    "model.add(layers.BatchNormalization(input_shape=(32, 32, 4)))\n",
    "\n",
    "model.add(layers.Conv2D(16, (3, 3),padding='same', activation='relu', kernel_initializer=kernel_initializer))\n",
    "model.add(layers.Dropout(0.1))\n",
    "model.add(layers.BatchNormalization())\n",
    "model.add(layers.Conv2D(16, (3, 3),padding='same', activation='relu', kernel_initializer=kernel_initializer))\n",
    "model.add(layers.Dropout(0.1))\n",
    "\n",
    "model.add(layers.MaxPooling2D((2, 2)))\n",
    "#model.add(layers.Dropout(0.2))\n",
    "\n",
    "\n",
    "\n",
    "model.add(layers.BatchNormalization())\n",
    "model.add(layers.Conv2D(16, (3, 3),padding='same', activation='relu', kernel_initializer=kernel_initializer))\n",
    "model.add(layers.Dropout(0.1))\n",
    "model.add(layers.BatchNormalization())\n",
    "model.add(layers.Conv2D(16, (3, 3),padding='same', activation='relu', kernel_initializer=kernel_initializer))\n",
    "model.add(layers.Dropout(0.1))\n",
    "\n",
    "\n",
    "model.add(layers.MaxPooling2D((2, 2)))\n",
    "\n",
    "#AveragePooling2D\n",
    "\n",
    "model.add(layers.BatchNormalization())\n",
    "model.add(layers.Conv2D(32, (3, 3),padding='same', activation='relu', kernel_initializer=kernel_initializer))\n",
    "model.add(layers.Dropout(0.1))\n",
    "model.add(layers.BatchNormalization())\n",
    "model.add(layers.Conv2D(32, (3, 3),padding='same', activation='relu', kernel_initializer=kernel_initializer))\n",
    "model.add(layers.Dropout(0.1))\n",
    "\n",
    "#model.add(layers.Dropout(0.2))\n",
    "model.add(layers.MaxPooling2D((2, 2)))\n",
    "\n",
    "\n",
    "model.add(layers.BatchNormalization())\n",
    "model.add(layers.Conv2D(64, (3, 3),padding='same', activation='relu',kernel_initializer=kernel_initializer))\n",
    "model.add(layers.Dropout(0.1))\n",
    "model.add(layers.BatchNormalization())\n",
    "model.add(layers.Conv2D(64, (3, 3),padding='same', activation='relu',kernel_initializer=kernel_initializer))\n",
    "model.add(layers.Dropout(0.1))\n",
    "\n",
    "\n",
    "#model.add(layers.BatchNormalization())\n",
    "#model.add(layers.Dropout(0.2))\n",
    "model.add(layers.MaxPooling2D((2, 2)))\n",
    "\n",
    "#model.add(layers.Flatten())\n",
    "model.add(layers.GlobalAveragePooling2D())\n",
    "model.add(layers.BatchNormalization())\n",
    "\n",
    "#model.add(layers.Dense(32, activation='relu'))\n",
    "model.add(layers.Dense(64, activation='relu'))\n",
    "model.add(layers.BatchNormalization())\n",
    "\n",
    "\n",
    "model.add(layers.Dense(28, activation=tf.nn.softmax))\n"
   ]
  },
  {
   "cell_type": "code",
   "execution_count": null,
   "id": "ec4bda6c",
   "metadata": {
    "papermill": {
     "duration": 0.047941,
     "end_time": "2021-11-06T15:28:24.086868",
     "exception": false,
     "start_time": "2021-11-06T15:28:24.038927",
     "status": "completed"
    },
    "tags": []
   },
   "outputs": [],
   "source": []
  },
  {
   "cell_type": "code",
   "execution_count": 26,
   "id": "6a43c355",
   "metadata": {
    "execution": {
     "iopub.execute_input": "2021-11-06T15:28:24.187350Z",
     "iopub.status.busy": "2021-11-06T15:28:24.186660Z",
     "iopub.status.idle": "2021-11-06T15:28:24.189517Z",
     "shell.execute_reply": "2021-11-06T15:28:24.189977Z",
     "shell.execute_reply.started": "2021-11-06T14:51:28.253317Z"
    },
    "papermill": {
     "duration": 0.05672,
     "end_time": "2021-11-06T15:28:24.190147",
     "exception": false,
     "start_time": "2021-11-06T15:28:24.133427",
     "status": "completed"
    },
    "tags": []
   },
   "outputs": [
    {
     "data": {
      "text/plain": [
       "\"\\nkernel_initializer = 'glorot_uniform'\\nmodel = models.Sequential()\\nmodel.add(layers.Conv2D(16, (3, 3),padding='same', activation='relu', input_shape=(32, 32, 4), kernel_initializer=kernel_initializer))\\n#model.add(layers.BatchNormalization())\\nmodel.add(layers.MaxPooling2D((2, 2)))\\n#model.add(layers.Dropout(0.2))\\n\\n\\nmodel.add(layers.Conv2D(16, (3, 3),padding='same', activation='relu', kernel_initializer=kernel_initializer))\\n#model.add(layers.BatchNormalization())\\nmodel.add(layers.MaxPooling2D((2, 2)))\\nmodel.add(layers.Dropout(0.2))\\n\\n\\nmodel.add(layers.Conv2D(32, (3, 3),padding='same', activation='relu', kernel_initializer=kernel_initializer))\\n#model.add(layers.BatchNormalization())\\n#model.add(layers.Dropout(0.2))\\nmodel.add(layers.MaxPooling2D((2, 2)))\\n\\n\\nmodel.add(layers.Conv2D(256, (3, 3),padding='same', activation='relu',kernel_initializer=kernel_initializer))\\n#model.add(layers.BatchNormalization())\\n#model.add(layers.Dropout(0.2))\\nmodel.add(layers.MaxPooling2D((2, 2)))\\n\\n#model.add(layers.Flatten())\\nmodel.add(layers.GlobalAveragePooling2D())\\n#model.add(layers.Dense(32, activation='relu'))\\n\\n\\nmodel.add(layers.Dense(28, activation=tf.nn.softmax))\\n\""
      ]
     },
     "execution_count": 26,
     "metadata": {},
     "output_type": "execute_result"
    }
   ],
   "source": [
    "# My new networkkkkkkkkkkk (cnn)\n",
    "#BEST MODEL SO FAR\n",
    "\"\"\"\n",
    "kernel_initializer = 'glorot_uniform'\n",
    "model = models.Sequential()\n",
    "model.add(layers.Conv2D(16, (3, 3),padding='same', activation='relu', input_shape=(32, 32, 4), kernel_initializer=kernel_initializer))\n",
    "#model.add(layers.BatchNormalization())\n",
    "model.add(layers.MaxPooling2D((2, 2)))\n",
    "#model.add(layers.Dropout(0.2))\n",
    "\n",
    "\n",
    "model.add(layers.Conv2D(16, (3, 3),padding='same', activation='relu', kernel_initializer=kernel_initializer))\n",
    "#model.add(layers.BatchNormalization())\n",
    "model.add(layers.MaxPooling2D((2, 2)))\n",
    "model.add(layers.Dropout(0.2))\n",
    "\n",
    "\n",
    "model.add(layers.Conv2D(32, (3, 3),padding='same', activation='relu', kernel_initializer=kernel_initializer))\n",
    "#model.add(layers.BatchNormalization())\n",
    "#model.add(layers.Dropout(0.2))\n",
    "model.add(layers.MaxPooling2D((2, 2)))\n",
    "\n",
    "\n",
    "model.add(layers.Conv2D(256, (3, 3),padding='same', activation='relu',kernel_initializer=kernel_initializer))\n",
    "#model.add(layers.BatchNormalization())\n",
    "#model.add(layers.Dropout(0.2))\n",
    "model.add(layers.MaxPooling2D((2, 2)))\n",
    "\n",
    "#model.add(layers.Flatten())\n",
    "model.add(layers.GlobalAveragePooling2D())\n",
    "#model.add(layers.Dense(32, activation='relu'))\n",
    "\n",
    "\n",
    "model.add(layers.Dense(28, activation=tf.nn.softmax))\n",
    "\"\"\""
   ]
  },
  {
   "cell_type": "code",
   "execution_count": 27,
   "id": "f53d883c",
   "metadata": {
    "execution": {
     "iopub.execute_input": "2021-11-06T15:28:24.289941Z",
     "iopub.status.busy": "2021-11-06T15:28:24.288746Z",
     "iopub.status.idle": "2021-11-06T15:28:24.305525Z",
     "shell.execute_reply": "2021-11-06T15:28:24.304954Z",
     "shell.execute_reply.started": "2021-11-06T14:54:49.379040Z"
    },
    "papermill": {
     "duration": 0.068841,
     "end_time": "2021-11-06T15:28:24.305676",
     "exception": false,
     "start_time": "2021-11-06T15:28:24.236835",
     "status": "completed"
    },
    "tags": []
   },
   "outputs": [
    {
     "name": "stdout",
     "output_type": "stream",
     "text": [
      "Model: \"sequential\"\n",
      "_________________________________________________________________\n",
      "Layer (type)                 Output Shape              Param #   \n",
      "=================================================================\n",
      "batch_normalization (BatchNo (None, 32, 32, 4)         16        \n",
      "_________________________________________________________________\n",
      "conv2d (Conv2D)              (None, 32, 32, 16)        592       \n",
      "_________________________________________________________________\n",
      "dropout (Dropout)            (None, 32, 32, 16)        0         \n",
      "_________________________________________________________________\n",
      "batch_normalization_1 (Batch (None, 32, 32, 16)        64        \n",
      "_________________________________________________________________\n",
      "conv2d_1 (Conv2D)            (None, 32, 32, 16)        2320      \n",
      "_________________________________________________________________\n",
      "dropout_1 (Dropout)          (None, 32, 32, 16)        0         \n",
      "_________________________________________________________________\n",
      "max_pooling2d (MaxPooling2D) (None, 16, 16, 16)        0         \n",
      "_________________________________________________________________\n",
      "batch_normalization_2 (Batch (None, 16, 16, 16)        64        \n",
      "_________________________________________________________________\n",
      "conv2d_2 (Conv2D)            (None, 16, 16, 16)        2320      \n",
      "_________________________________________________________________\n",
      "dropout_2 (Dropout)          (None, 16, 16, 16)        0         \n",
      "_________________________________________________________________\n",
      "batch_normalization_3 (Batch (None, 16, 16, 16)        64        \n",
      "_________________________________________________________________\n",
      "conv2d_3 (Conv2D)            (None, 16, 16, 16)        2320      \n",
      "_________________________________________________________________\n",
      "dropout_3 (Dropout)          (None, 16, 16, 16)        0         \n",
      "_________________________________________________________________\n",
      "max_pooling2d_1 (MaxPooling2 (None, 8, 8, 16)          0         \n",
      "_________________________________________________________________\n",
      "batch_normalization_4 (Batch (None, 8, 8, 16)          64        \n",
      "_________________________________________________________________\n",
      "conv2d_4 (Conv2D)            (None, 8, 8, 32)          4640      \n",
      "_________________________________________________________________\n",
      "dropout_4 (Dropout)          (None, 8, 8, 32)          0         \n",
      "_________________________________________________________________\n",
      "batch_normalization_5 (Batch (None, 8, 8, 32)          128       \n",
      "_________________________________________________________________\n",
      "conv2d_5 (Conv2D)            (None, 8, 8, 32)          9248      \n",
      "_________________________________________________________________\n",
      "dropout_5 (Dropout)          (None, 8, 8, 32)          0         \n",
      "_________________________________________________________________\n",
      "max_pooling2d_2 (MaxPooling2 (None, 4, 4, 32)          0         \n",
      "_________________________________________________________________\n",
      "batch_normalization_6 (Batch (None, 4, 4, 32)          128       \n",
      "_________________________________________________________________\n",
      "conv2d_6 (Conv2D)            (None, 4, 4, 64)          18496     \n",
      "_________________________________________________________________\n",
      "dropout_6 (Dropout)          (None, 4, 4, 64)          0         \n",
      "_________________________________________________________________\n",
      "batch_normalization_7 (Batch (None, 4, 4, 64)          256       \n",
      "_________________________________________________________________\n",
      "conv2d_7 (Conv2D)            (None, 4, 4, 64)          36928     \n",
      "_________________________________________________________________\n",
      "dropout_7 (Dropout)          (None, 4, 4, 64)          0         \n",
      "_________________________________________________________________\n",
      "max_pooling2d_3 (MaxPooling2 (None, 2, 2, 64)          0         \n",
      "_________________________________________________________________\n",
      "global_average_pooling2d (Gl (None, 64)                0         \n",
      "_________________________________________________________________\n",
      "batch_normalization_8 (Batch (None, 64)                256       \n",
      "_________________________________________________________________\n",
      "dense (Dense)                (None, 64)                4160      \n",
      "_________________________________________________________________\n",
      "batch_normalization_9 (Batch (None, 64)                256       \n",
      "_________________________________________________________________\n",
      "dense_1 (Dense)              (None, 28)                1820      \n",
      "=================================================================\n",
      "Total params: 84,140\n",
      "Trainable params: 83,492\n",
      "Non-trainable params: 648\n",
      "_________________________________________________________________\n"
     ]
    }
   ],
   "source": [
    "model.summary()"
   ]
  },
  {
   "cell_type": "code",
   "execution_count": 28,
   "id": "5e7b1c89",
   "metadata": {
    "execution": {
     "iopub.execute_input": "2021-11-06T15:28:24.415895Z",
     "iopub.status.busy": "2021-11-06T15:28:24.415225Z",
     "iopub.status.idle": "2021-11-06T15:28:24.419291Z",
     "shell.execute_reply": "2021-11-06T15:28:24.418724Z",
     "shell.execute_reply.started": "2021-11-06T15:13:44.573335Z"
    },
    "papermill": {
     "duration": 0.065769,
     "end_time": "2021-11-06T15:28:24.419447",
     "exception": false,
     "start_time": "2021-11-06T15:28:24.353678",
     "status": "completed"
    },
    "tags": []
   },
   "outputs": [],
   "source": [
    "model.compile(optimizer='Nadam',\n",
    "              loss=tf.keras.losses.SparseCategoricalCrossentropy(),\n",
    "              metrics=['accuracy'])\n"
   ]
  },
  {
   "cell_type": "code",
   "execution_count": 29,
   "id": "d19ec884",
   "metadata": {
    "execution": {
     "iopub.execute_input": "2021-11-06T15:28:24.517562Z",
     "iopub.status.busy": "2021-11-06T15:28:24.516929Z",
     "iopub.status.idle": "2021-11-06T15:41:16.779354Z",
     "shell.execute_reply": "2021-11-06T15:41:16.778820Z",
     "shell.execute_reply.started": "2021-11-06T15:13:45.125649Z"
    },
    "papermill": {
     "duration": 772.312661,
     "end_time": "2021-11-06T15:41:16.779500",
     "exception": false,
     "start_time": "2021-11-06T15:28:24.466839",
     "status": "completed"
    },
    "tags": []
   },
   "outputs": [
    {
     "name": "stderr",
     "output_type": "stream",
     "text": [
      "2021-11-06 15:28:24.844346: I tensorflow/compiler/mlir/mlir_graph_optimization_pass.cc:185] None of the MLIR Optimization Passes are enabled (registered 2)\n"
     ]
    },
    {
     "name": "stdout",
     "output_type": "stream",
     "text": [
      "Epoch 1/50\n",
      "336/336 [==============================] - 21s 49ms/step - loss: 1.8380 - accuracy: 0.4463 - val_loss: 5.0699 - val_accuracy: 0.0346\n",
      "Epoch 2/50\n",
      "336/336 [==============================] - 15s 44ms/step - loss: 0.7341 - accuracy: 0.7654 - val_loss: 1.3526 - val_accuracy: 0.5350\n",
      "Epoch 3/50\n",
      "336/336 [==============================] - 15s 44ms/step - loss: 0.4876 - accuracy: 0.8422 - val_loss: 0.5388 - val_accuracy: 0.8151\n",
      "Epoch 4/50\n",
      "336/336 [==============================] - 16s 47ms/step - loss: 0.3645 - accuracy: 0.8797 - val_loss: 0.3490 - val_accuracy: 0.8876\n",
      "Epoch 5/50\n",
      "336/336 [==============================] - 15s 44ms/step - loss: 0.3090 - accuracy: 0.9034 - val_loss: 0.3364 - val_accuracy: 0.8854\n",
      "Epoch 6/50\n",
      "336/336 [==============================] - 16s 46ms/step - loss: 0.2561 - accuracy: 0.9195 - val_loss: 0.4358 - val_accuracy: 0.8620\n",
      "Epoch 7/50\n",
      "336/336 [==============================] - 15s 45ms/step - loss: 0.2272 - accuracy: 0.9279 - val_loss: 0.1872 - val_accuracy: 0.9475\n",
      "Epoch 8/50\n",
      "336/336 [==============================] - 16s 46ms/step - loss: 0.2041 - accuracy: 0.9377 - val_loss: 0.2605 - val_accuracy: 0.9182\n",
      "Epoch 9/50\n",
      "336/336 [==============================] - 15s 44ms/step - loss: 0.1951 - accuracy: 0.9358 - val_loss: 0.2184 - val_accuracy: 0.9353\n",
      "Epoch 10/50\n",
      "336/336 [==============================] - 16s 46ms/step - loss: 0.1779 - accuracy: 0.9434 - val_loss: 0.3375 - val_accuracy: 0.8977\n",
      "Epoch 11/50\n",
      "336/336 [==============================] - 15s 44ms/step - loss: 0.1539 - accuracy: 0.9511 - val_loss: 0.2446 - val_accuracy: 0.9230\n",
      "Epoch 12/50\n",
      "336/336 [==============================] - 16s 46ms/step - loss: 0.1466 - accuracy: 0.9540 - val_loss: 0.1793 - val_accuracy: 0.9516\n",
      "Epoch 13/50\n",
      "336/336 [==============================] - 15s 44ms/step - loss: 0.1539 - accuracy: 0.9504 - val_loss: 0.1977 - val_accuracy: 0.9423\n",
      "Epoch 14/50\n",
      "336/336 [==============================] - 16s 47ms/step - loss: 0.1345 - accuracy: 0.9568 - val_loss: 0.2470 - val_accuracy: 0.9308\n",
      "Epoch 15/50\n",
      "336/336 [==============================] - 15s 44ms/step - loss: 0.1355 - accuracy: 0.9567 - val_loss: 0.1622 - val_accuracy: 0.9475\n",
      "Epoch 16/50\n",
      "336/336 [==============================] - 16s 47ms/step - loss: 0.1374 - accuracy: 0.9549 - val_loss: 0.1723 - val_accuracy: 0.9461\n",
      "Epoch 17/50\n",
      "336/336 [==============================] - 15s 44ms/step - loss: 0.1265 - accuracy: 0.9608 - val_loss: 0.1570 - val_accuracy: 0.9509\n",
      "Epoch 18/50\n",
      "336/336 [==============================] - 16s 46ms/step - loss: 0.1155 - accuracy: 0.9640 - val_loss: 0.1479 - val_accuracy: 0.9554\n",
      "Epoch 19/50\n",
      "336/336 [==============================] - 15s 45ms/step - loss: 0.1067 - accuracy: 0.9638 - val_loss: 0.1910 - val_accuracy: 0.9401\n",
      "Epoch 20/50\n",
      "336/336 [==============================] - 16s 46ms/step - loss: 0.1109 - accuracy: 0.9656 - val_loss: 0.2069 - val_accuracy: 0.9360\n",
      "Epoch 21/50\n",
      "336/336 [==============================] - 16s 47ms/step - loss: 0.1053 - accuracy: 0.9656 - val_loss: 0.1381 - val_accuracy: 0.9643\n",
      "Epoch 22/50\n",
      "336/336 [==============================] - 15s 45ms/step - loss: 0.1005 - accuracy: 0.9685 - val_loss: 0.1547 - val_accuracy: 0.9516\n",
      "Epoch 23/50\n",
      "336/336 [==============================] - 16s 48ms/step - loss: 0.1044 - accuracy: 0.9655 - val_loss: 0.1241 - val_accuracy: 0.9643\n",
      "Epoch 24/50\n",
      "336/336 [==============================] - 15s 44ms/step - loss: 0.0948 - accuracy: 0.9705 - val_loss: 0.1452 - val_accuracy: 0.9557\n",
      "Epoch 25/50\n",
      "336/336 [==============================] - 16s 47ms/step - loss: 0.0979 - accuracy: 0.9686 - val_loss: 0.1911 - val_accuracy: 0.9420\n",
      "Epoch 26/50\n",
      "336/336 [==============================] - 15s 44ms/step - loss: 0.0892 - accuracy: 0.9722 - val_loss: 0.1323 - val_accuracy: 0.9587\n",
      "Epoch 27/50\n",
      "336/336 [==============================] - 16s 48ms/step - loss: 0.0769 - accuracy: 0.9753 - val_loss: 0.1748 - val_accuracy: 0.9479\n",
      "Epoch 28/50\n",
      "336/336 [==============================] - 15s 44ms/step - loss: 0.0824 - accuracy: 0.9738 - val_loss: 0.1489 - val_accuracy: 0.9561\n",
      "Epoch 29/50\n",
      "336/336 [==============================] - 16s 46ms/step - loss: 0.0835 - accuracy: 0.9729 - val_loss: 0.1970 - val_accuracy: 0.9431\n",
      "Epoch 30/50\n",
      "336/336 [==============================] - 15s 44ms/step - loss: 0.0814 - accuracy: 0.9729 - val_loss: 0.1320 - val_accuracy: 0.9598\n",
      "Epoch 31/50\n",
      "336/336 [==============================] - 16s 46ms/step - loss: 0.0745 - accuracy: 0.9765 - val_loss: 0.1237 - val_accuracy: 0.9654\n",
      "Epoch 32/50\n",
      "336/336 [==============================] - 15s 45ms/step - loss: 0.0680 - accuracy: 0.9762 - val_loss: 0.1570 - val_accuracy: 0.9554\n",
      "Epoch 33/50\n",
      "336/336 [==============================] - 15s 45ms/step - loss: 0.0768 - accuracy: 0.9743 - val_loss: 0.1742 - val_accuracy: 0.9524\n",
      "Epoch 34/50\n",
      "336/336 [==============================] - 15s 45ms/step - loss: 0.0656 - accuracy: 0.9781 - val_loss: 0.1013 - val_accuracy: 0.9751\n",
      "Epoch 35/50\n",
      "336/336 [==============================] - 15s 46ms/step - loss: 0.0722 - accuracy: 0.9764 - val_loss: 0.1554 - val_accuracy: 0.9568\n",
      "Epoch 36/50\n",
      "336/336 [==============================] - 15s 45ms/step - loss: 0.0744 - accuracy: 0.9760 - val_loss: 0.1150 - val_accuracy: 0.9702\n",
      "Epoch 37/50\n",
      "336/336 [==============================] - 16s 46ms/step - loss: 0.0651 - accuracy: 0.9781 - val_loss: 0.1107 - val_accuracy: 0.9714\n",
      "Epoch 38/50\n",
      "336/336 [==============================] - 16s 46ms/step - loss: 0.0630 - accuracy: 0.9794 - val_loss: 0.1291 - val_accuracy: 0.9632\n",
      "Epoch 39/50\n",
      "336/336 [==============================] - 15s 46ms/step - loss: 0.0614 - accuracy: 0.9781 - val_loss: 0.1469 - val_accuracy: 0.9587\n",
      "Epoch 40/50\n",
      "336/336 [==============================] - 15s 45ms/step - loss: 0.0554 - accuracy: 0.9807 - val_loss: 0.1225 - val_accuracy: 0.9669\n",
      "Epoch 41/50\n",
      "336/336 [==============================] - 15s 45ms/step - loss: 0.0612 - accuracy: 0.9805 - val_loss: 0.1327 - val_accuracy: 0.9639\n",
      "Epoch 42/50\n",
      "336/336 [==============================] - 16s 47ms/step - loss: 0.0603 - accuracy: 0.9807 - val_loss: 0.1361 - val_accuracy: 0.9628\n",
      "Epoch 43/50\n",
      "336/336 [==============================] - 15s 46ms/step - loss: 0.0603 - accuracy: 0.9799 - val_loss: 0.2047 - val_accuracy: 0.9449\n",
      "Epoch 44/50\n",
      "336/336 [==============================] - 15s 46ms/step - loss: 0.0621 - accuracy: 0.9802 - val_loss: 0.1411 - val_accuracy: 0.9613\n",
      "Epoch 45/50\n",
      "336/336 [==============================] - 15s 46ms/step - loss: 0.0544 - accuracy: 0.9831 - val_loss: 0.0980 - val_accuracy: 0.9766\n",
      "Epoch 46/50\n",
      "336/336 [==============================] - 15s 46ms/step - loss: 0.0578 - accuracy: 0.9814 - val_loss: 0.1226 - val_accuracy: 0.9658\n",
      "Epoch 47/50\n",
      "336/336 [==============================] - 15s 45ms/step - loss: 0.0572 - accuracy: 0.9815 - val_loss: 0.1488 - val_accuracy: 0.9639\n",
      "Epoch 48/50\n",
      "336/336 [==============================] - 16s 46ms/step - loss: 0.0411 - accuracy: 0.9872 - val_loss: 0.1091 - val_accuracy: 0.9684\n",
      "Epoch 49/50\n",
      "336/336 [==============================] - 15s 44ms/step - loss: 0.0640 - accuracy: 0.9796 - val_loss: 0.1511 - val_accuracy: 0.9602\n",
      "Epoch 50/50\n",
      "336/336 [==============================] - 16s 48ms/step - loss: 0.0587 - accuracy: 0.9817 - val_loss: 0.1404 - val_accuracy: 0.9624\n"
     ]
    },
    {
     "data": {
      "text/plain": [
       "<keras.callbacks.History at 0x7fe1490b5b90>"
      ]
     },
     "execution_count": 29,
     "metadata": {},
     "output_type": "execute_result"
    }
   ],
   "source": [
    " model.fit(X_train, y_train, epochs=50, validation_data=(X_test, y_test) )\n",
    "                    #validation_data=(test_images, test_labels))\n",
    "\n",
    "        "
   ]
  },
  {
   "cell_type": "code",
   "execution_count": 30,
   "id": "32ef2b55",
   "metadata": {
    "execution": {
     "iopub.execute_input": "2021-11-06T15:41:22.214540Z",
     "iopub.status.busy": "2021-11-06T15:41:22.213802Z",
     "iopub.status.idle": "2021-11-06T15:41:23.092205Z",
     "shell.execute_reply": "2021-11-06T15:41:23.092766Z",
     "shell.execute_reply.started": "2021-11-06T14:54:21.178952Z"
    },
    "papermill": {
     "duration": 3.597865,
     "end_time": "2021-11-06T15:41:23.092942",
     "exception": false,
     "start_time": "2021-11-06T15:41:19.495077",
     "status": "completed"
    },
    "tags": []
   },
   "outputs": [
    {
     "name": "stdout",
     "output_type": "stream",
     "text": [
      "84/84 [==============================] - 1s 9ms/step - loss: 0.1404 - accuracy: 0.9624\n",
      "Accuracy on the testing images is 96.24255895614624\n"
     ]
    }
   ],
   "source": [
    "evaluation = model.evaluate(X_test, y_test)\n",
    "print(\"Accuracy on the testing images is {}\".format(evaluation[1]*100))"
   ]
  },
  {
   "cell_type": "code",
   "execution_count": 31,
   "id": "f1b0faa8",
   "metadata": {
    "execution": {
     "iopub.execute_input": "2021-11-06T15:41:28.617097Z",
     "iopub.status.busy": "2021-11-06T15:41:28.616365Z",
     "iopub.status.idle": "2021-11-06T15:41:28.619480Z",
     "shell.execute_reply": "2021-11-06T15:41:28.618794Z",
     "shell.execute_reply.started": "2021-10-22T21:57:14.109062Z"
    },
    "papermill": {
     "duration": 2.728696,
     "end_time": "2021-11-06T15:41:28.619642",
     "exception": false,
     "start_time": "2021-11-06T15:41:25.890946",
     "status": "completed"
    },
    "tags": []
   },
   "outputs": [],
   "source": [
    "# import test data"
   ]
  },
  {
   "cell_type": "code",
   "execution_count": 32,
   "id": "c139b24a",
   "metadata": {
    "execution": {
     "iopub.execute_input": "2021-11-06T15:41:34.154692Z",
     "iopub.status.busy": "2021-11-06T15:41:34.153975Z",
     "iopub.status.idle": "2021-11-06T15:41:34.174849Z",
     "shell.execute_reply": "2021-11-06T15:41:34.175434Z",
     "shell.execute_reply.started": "2021-10-22T21:57:14.113694Z"
    },
    "papermill": {
     "duration": 2.832299,
     "end_time": "2021-11-06T15:41:34.175624",
     "exception": false,
     "start_time": "2021-11-06T15:41:31.343325",
     "status": "completed"
    },
    "tags": []
   },
   "outputs": [],
   "source": [
    "import glob\n",
    "filelist_test = glob.glob('/kaggle/input/arabic-hwr-ai-pro-intake1/test/*.png')\n"
   ]
  },
  {
   "cell_type": "code",
   "execution_count": 33,
   "id": "69c97f89",
   "metadata": {
    "execution": {
     "iopub.execute_input": "2021-11-06T15:41:39.803295Z",
     "iopub.status.busy": "2021-11-06T15:41:39.802678Z",
     "iopub.status.idle": "2021-11-06T15:41:39.806917Z",
     "shell.execute_reply": "2021-11-06T15:41:39.807403Z",
     "shell.execute_reply.started": "2021-10-22T21:57:14.143512Z"
    },
    "papermill": {
     "duration": 2.866715,
     "end_time": "2021-11-06T15:41:39.807575",
     "exception": false,
     "start_time": "2021-11-06T15:41:36.940860",
     "status": "completed"
    },
    "tags": []
   },
   "outputs": [],
   "source": [
    "filelist_test.sort()"
   ]
  },
  {
   "cell_type": "code",
   "execution_count": 34,
   "id": "659e08ec",
   "metadata": {
    "execution": {
     "iopub.execute_input": "2021-11-06T15:41:45.204499Z",
     "iopub.status.busy": "2021-11-06T15:41:45.203826Z",
     "iopub.status.idle": "2021-11-06T15:41:59.590791Z",
     "shell.execute_reply": "2021-11-06T15:41:59.591387Z",
     "shell.execute_reply.started": "2021-10-22T21:57:14.15084Z"
    },
    "papermill": {
     "duration": 17.088285,
     "end_time": "2021-11-06T15:41:59.591597",
     "exception": false,
     "start_time": "2021-11-06T15:41:42.503312",
     "status": "completed"
    },
    "tags": []
   },
   "outputs": [],
   "source": [
    "# get ndarray of [no. of images, height, width] dimentions. (to grayscale to avoid 4d matrix)\n",
    "from PIL import Image, ImageOps\n",
    "#x = np.array([np.array(ImageOps.grayscale(Image.open(fname))) for fname in filelist])\n",
    "x_test = np.array([np.array(Image.open(fname)) for fname in filelist_test])\n",
    "\n",
    "#gray_image = ImageOps.grayscale(og_image)\n"
   ]
  },
  {
   "cell_type": "code",
   "execution_count": 35,
   "id": "035f2969",
   "metadata": {
    "execution": {
     "iopub.execute_input": "2021-11-06T15:42:05.101117Z",
     "iopub.status.busy": "2021-11-06T15:42:05.100324Z",
     "iopub.status.idle": "2021-11-06T15:42:05.104808Z",
     "shell.execute_reply": "2021-11-06T15:42:05.105410Z",
     "shell.execute_reply.started": "2021-10-22T21:57:18.299426Z"
    },
    "papermill": {
     "duration": 2.709029,
     "end_time": "2021-11-06T15:42:05.105595",
     "exception": false,
     "start_time": "2021-11-06T15:42:02.396566",
     "status": "completed"
    },
    "tags": []
   },
   "outputs": [
    {
     "data": {
      "text/plain": [
       "(3360, 32, 32, 4)"
      ]
     },
     "execution_count": 35,
     "metadata": {},
     "output_type": "execute_result"
    }
   ],
   "source": [
    "x_test.shape"
   ]
  },
  {
   "cell_type": "code",
   "execution_count": 36,
   "id": "db6a32b0",
   "metadata": {
    "execution": {
     "iopub.execute_input": "2021-11-06T15:42:10.647964Z",
     "iopub.status.busy": "2021-11-06T15:42:10.647208Z",
     "iopub.status.idle": "2021-11-06T15:42:10.707034Z",
     "shell.execute_reply": "2021-11-06T15:42:10.706448Z",
     "shell.execute_reply.started": "2021-10-22T21:57:18.307387Z"
    },
    "papermill": {
     "duration": 2.840445,
     "end_time": "2021-11-06T15:42:10.707194",
     "exception": false,
     "start_time": "2021-11-06T15:42:07.866749",
     "status": "completed"
    },
    "tags": []
   },
   "outputs": [],
   "source": [
    "x_test = x_test / 255"
   ]
  },
  {
   "cell_type": "code",
   "execution_count": 37,
   "id": "477dc360",
   "metadata": {
    "execution": {
     "iopub.execute_input": "2021-11-06T15:42:16.301864Z",
     "iopub.status.busy": "2021-11-06T15:42:16.301156Z",
     "iopub.status.idle": "2021-11-06T15:42:17.613030Z",
     "shell.execute_reply": "2021-11-06T15:42:17.612430Z",
     "shell.execute_reply.started": "2021-10-22T21:57:18.360837Z"
    },
    "papermill": {
     "duration": 4.089201,
     "end_time": "2021-11-06T15:42:17.613175",
     "exception": false,
     "start_time": "2021-11-06T15:42:13.523974",
     "status": "completed"
    },
    "tags": []
   },
   "outputs": [],
   "source": [
    "output = model.predict(x_test)"
   ]
  },
  {
   "cell_type": "code",
   "execution_count": 38,
   "id": "95bcb923",
   "metadata": {
    "execution": {
     "iopub.execute_input": "2021-11-06T15:42:23.049894Z",
     "iopub.status.busy": "2021-11-06T15:42:23.049209Z",
     "iopub.status.idle": "2021-11-06T15:42:23.051351Z",
     "shell.execute_reply": "2021-11-06T15:42:23.051841Z",
     "shell.execute_reply.started": "2021-10-22T21:57:19.134822Z"
    },
    "papermill": {
     "duration": 2.703698,
     "end_time": "2021-11-06T15:42:23.052011",
     "exception": false,
     "start_time": "2021-11-06T15:42:20.348313",
     "status": "completed"
    },
    "tags": []
   },
   "outputs": [],
   "source": [
    "y_classes = output.argmax(axis=-1)\n"
   ]
  },
  {
   "cell_type": "code",
   "execution_count": 39,
   "id": "8b43d39b",
   "metadata": {
    "execution": {
     "iopub.execute_input": "2021-11-06T15:42:28.605473Z",
     "iopub.status.busy": "2021-11-06T15:42:28.604709Z",
     "iopub.status.idle": "2021-11-06T15:42:28.611103Z",
     "shell.execute_reply": "2021-11-06T15:42:28.610480Z",
     "shell.execute_reply.started": "2021-10-22T21:57:19.140182Z"
    },
    "papermill": {
     "duration": 2.766234,
     "end_time": "2021-11-06T15:42:28.611255",
     "exception": false,
     "start_time": "2021-11-06T15:42:25.845021",
     "status": "completed"
    },
    "tags": []
   },
   "outputs": [
    {
     "data": {
      "text/plain": [
       "array([ 0,  1,  2,  3,  4,  5,  6,  7,  8,  9, 10, 11, 12, 13, 14, 15, 16,\n",
       "       17, 18, 19, 20, 21, 22, 23, 24, 25, 26, 27])"
      ]
     },
     "execution_count": 39,
     "metadata": {},
     "output_type": "execute_result"
    }
   ],
   "source": [
    "np.unique(y_classes)"
   ]
  },
  {
   "cell_type": "code",
   "execution_count": 40,
   "id": "47edf6f8",
   "metadata": {
    "execution": {
     "iopub.execute_input": "2021-11-06T15:42:34.182773Z",
     "iopub.status.busy": "2021-11-06T15:42:34.182020Z",
     "iopub.status.idle": "2021-11-06T15:42:34.184837Z",
     "shell.execute_reply": "2021-11-06T15:42:34.184236Z",
     "shell.execute_reply.started": "2021-10-22T21:57:19.156154Z"
    },
    "papermill": {
     "duration": 2.813274,
     "end_time": "2021-11-06T15:42:34.185013",
     "exception": false,
     "start_time": "2021-11-06T15:42:31.371739",
     "status": "completed"
    },
    "tags": []
   },
   "outputs": [],
   "source": [
    "y_classes = y_classes + 1"
   ]
  },
  {
   "cell_type": "code",
   "execution_count": 41,
   "id": "a2aabf87",
   "metadata": {
    "execution": {
     "iopub.execute_input": "2021-11-06T15:42:39.620571Z",
     "iopub.status.busy": "2021-11-06T15:42:39.619880Z",
     "iopub.status.idle": "2021-11-06T15:42:39.623221Z",
     "shell.execute_reply": "2021-11-06T15:42:39.623842Z",
     "shell.execute_reply.started": "2021-10-22T21:57:19.164975Z"
    },
    "papermill": {
     "duration": 2.725573,
     "end_time": "2021-11-06T15:42:39.624012",
     "exception": false,
     "start_time": "2021-11-06T15:42:36.898439",
     "status": "completed"
    },
    "tags": []
   },
   "outputs": [
    {
     "data": {
      "text/plain": [
       "(3360, 28)"
      ]
     },
     "execution_count": 41,
     "metadata": {},
     "output_type": "execute_result"
    }
   ],
   "source": [
    "output.shape"
   ]
  },
  {
   "cell_type": "code",
   "execution_count": 42,
   "id": "1679c400",
   "metadata": {
    "execution": {
     "iopub.execute_input": "2021-11-06T15:42:45.271381Z",
     "iopub.status.busy": "2021-11-06T15:42:45.270474Z",
     "iopub.status.idle": "2021-11-06T15:42:45.286215Z",
     "shell.execute_reply": "2021-11-06T15:42:45.286886Z",
     "shell.execute_reply.started": "2021-10-22T21:57:19.178736Z"
    },
    "papermill": {
     "duration": 2.822034,
     "end_time": "2021-11-06T15:42:45.287115",
     "exception": false,
     "start_time": "2021-11-06T15:42:42.465081",
     "status": "completed"
    },
    "tags": []
   },
   "outputs": [],
   "source": [
    "test_labels = pd.read_csv('/kaggle/input/arabic-hwr-ai-pro-intake1/test.csv')"
   ]
  },
  {
   "cell_type": "code",
   "execution_count": 43,
   "id": "5b935481",
   "metadata": {
    "execution": {
     "iopub.execute_input": "2021-11-06T15:42:50.830302Z",
     "iopub.status.busy": "2021-11-06T15:42:50.829531Z",
     "iopub.status.idle": "2021-11-06T15:42:50.850144Z",
     "shell.execute_reply": "2021-11-06T15:42:50.850858Z",
     "shell.execute_reply.started": "2021-10-22T22:03:52.764932Z"
    },
    "papermill": {
     "duration": 2.836851,
     "end_time": "2021-11-06T15:42:50.851137",
     "exception": false,
     "start_time": "2021-11-06T15:42:48.014286",
     "status": "completed"
    },
    "tags": []
   },
   "outputs": [
    {
     "name": "stdout",
     "output_type": "stream",
     "text": [
      "<class 'pandas.core.frame.DataFrame'>\n",
      "RangeIndex: 3360 entries, 0 to 3359\n",
      "Data columns (total 1 columns):\n",
      " #   Column  Non-Null Count  Dtype\n",
      "---  ------  --------------  -----\n",
      " 0   id      3360 non-null   int64\n",
      "dtypes: int64(1)\n",
      "memory usage: 26.4 KB\n"
     ]
    }
   ],
   "source": [
    "test_labels.info()"
   ]
  },
  {
   "cell_type": "code",
   "execution_count": 44,
   "id": "482073c4",
   "metadata": {
    "execution": {
     "iopub.execute_input": "2021-11-06T15:42:56.375221Z",
     "iopub.status.busy": "2021-11-06T15:42:56.374578Z",
     "iopub.status.idle": "2021-11-06T15:42:56.376109Z",
     "shell.execute_reply": "2021-11-06T15:42:56.376614Z",
     "shell.execute_reply.started": "2021-10-22T21:57:19.193791Z"
    },
    "papermill": {
     "duration": 2.780814,
     "end_time": "2021-11-06T15:42:56.376783",
     "exception": false,
     "start_time": "2021-11-06T15:42:53.595969",
     "status": "completed"
    },
    "tags": []
   },
   "outputs": [],
   "source": [
    "test_labels['label'] = y_classes"
   ]
  },
  {
   "cell_type": "code",
   "execution_count": 45,
   "id": "126d1f2f",
   "metadata": {
    "execution": {
     "iopub.execute_input": "2021-11-06T15:43:01.823058Z",
     "iopub.status.busy": "2021-11-06T15:43:01.821984Z",
     "iopub.status.idle": "2021-11-06T15:43:01.832004Z",
     "shell.execute_reply": "2021-11-06T15:43:01.832657Z",
     "shell.execute_reply.started": "2021-10-22T21:57:19.204474Z"
    },
    "papermill": {
     "duration": 2.750322,
     "end_time": "2021-11-06T15:43:01.832857",
     "exception": false,
     "start_time": "2021-11-06T15:42:59.082535",
     "status": "completed"
    },
    "tags": []
   },
   "outputs": [
    {
     "data": {
      "text/html": [
       "<div>\n",
       "<style scoped>\n",
       "    .dataframe tbody tr th:only-of-type {\n",
       "        vertical-align: middle;\n",
       "    }\n",
       "\n",
       "    .dataframe tbody tr th {\n",
       "        vertical-align: top;\n",
       "    }\n",
       "\n",
       "    .dataframe thead th {\n",
       "        text-align: right;\n",
       "    }\n",
       "</style>\n",
       "<table border=\"1\" class=\"dataframe\">\n",
       "  <thead>\n",
       "    <tr style=\"text-align: right;\">\n",
       "      <th></th>\n",
       "      <th>id</th>\n",
       "      <th>label</th>\n",
       "    </tr>\n",
       "  </thead>\n",
       "  <tbody>\n",
       "    <tr>\n",
       "      <th>0</th>\n",
       "      <td>0</td>\n",
       "      <td>26</td>\n",
       "    </tr>\n",
       "    <tr>\n",
       "      <th>1</th>\n",
       "      <td>1</td>\n",
       "      <td>10</td>\n",
       "    </tr>\n",
       "    <tr>\n",
       "      <th>2</th>\n",
       "      <td>2</td>\n",
       "      <td>1</td>\n",
       "    </tr>\n",
       "    <tr>\n",
       "      <th>3</th>\n",
       "      <td>3</td>\n",
       "      <td>10</td>\n",
       "    </tr>\n",
       "    <tr>\n",
       "      <th>4</th>\n",
       "      <td>4</td>\n",
       "      <td>15</td>\n",
       "    </tr>\n",
       "  </tbody>\n",
       "</table>\n",
       "</div>"
      ],
      "text/plain": [
       "   id  label\n",
       "0   0     26\n",
       "1   1     10\n",
       "2   2      1\n",
       "3   3     10\n",
       "4   4     15"
      ]
     },
     "execution_count": 45,
     "metadata": {},
     "output_type": "execute_result"
    }
   ],
   "source": [
    "test_labels.head()"
   ]
  },
  {
   "cell_type": "markdown",
   "id": "b68f59c4",
   "metadata": {
    "papermill": {
     "duration": 2.758456,
     "end_time": "2021-11-06T15:43:07.332949",
     "exception": false,
     "start_time": "2021-11-06T15:43:04.574493",
     "status": "completed"
    },
    "tags": []
   },
   "source": [
    "1. "
   ]
  },
  {
   "cell_type": "code",
   "execution_count": 46,
   "id": "b691f871",
   "metadata": {
    "execution": {
     "iopub.execute_input": "2021-11-06T15:43:12.769020Z",
     "iopub.status.busy": "2021-11-06T15:43:12.768300Z",
     "iopub.status.idle": "2021-11-06T15:43:12.780168Z",
     "shell.execute_reply": "2021-11-06T15:43:12.780764Z",
     "shell.execute_reply.started": "2021-10-22T22:05:09.837371Z"
    },
    "papermill": {
     "duration": 2.721189,
     "end_time": "2021-11-06T15:43:12.780946",
     "exception": false,
     "start_time": "2021-11-06T15:43:10.059757",
     "status": "completed"
    },
    "tags": []
   },
   "outputs": [],
   "source": [
    "test_labels.to_csv('submission.csv', index=False)\n"
   ]
  },
  {
   "cell_type": "code",
   "execution_count": 47,
   "id": "3da78239",
   "metadata": {
    "execution": {
     "iopub.execute_input": "2021-11-06T15:43:18.341383Z",
     "iopub.status.busy": "2021-11-06T15:43:18.340153Z",
     "iopub.status.idle": "2021-11-06T15:43:18.347989Z",
     "shell.execute_reply": "2021-11-06T15:43:18.348788Z",
     "shell.execute_reply.started": "2021-11-04T20:42:04.511431Z"
    },
    "papermill": {
     "duration": 2.778817,
     "end_time": "2021-11-06T15:43:18.349033",
     "exception": false,
     "start_time": "2021-11-06T15:43:15.570216",
     "status": "completed"
    },
    "tags": []
   },
   "outputs": [
    {
     "name": "stdout",
     "output_type": "stream",
     "text": [
      "Number of different parameter combinations = 24\n"
     ]
    }
   ],
   "source": [
    "# new sun\n",
    "\n",
    "# fix random seed for reproducibility\n",
    "seed = 7\n",
    "np.random.seed(seed)\n",
    "\n",
    "# define the grid search parameters\n",
    "optimizer = ['RMSprop', 'Adam', 'Adagrad', 'Nadam']\n",
    "kernel_initializer = ['normal', 'uniform']\n",
    "activation = ['relu', 'linear', 'tanh']\n",
    "\n",
    "param_grid = dict(optimizer=optimizer, kernel_initializer=kernel_initializer, activation=activation)\n",
    "\n",
    "# count number of different parameters values combinations\n",
    "parameters_number = 1\n",
    "for x in param_grid:\n",
    "  parameters_number = parameters_number * len(param_grid[x]) \n",
    "print(\"Number of different parameter combinations = {}\".format(parameters_number))\n"
   ]
  },
  {
   "cell_type": "code",
   "execution_count": 48,
   "id": "e231bf93",
   "metadata": {
    "execution": {
     "iopub.execute_input": "2021-11-06T15:43:23.835985Z",
     "iopub.status.busy": "2021-11-06T15:43:23.834918Z",
     "iopub.status.idle": "2021-11-06T15:43:23.839070Z",
     "shell.execute_reply": "2021-11-06T15:43:23.838371Z",
     "shell.execute_reply.started": "2021-11-04T20:50:54.253171Z"
    },
    "papermill": {
     "duration": 2.72146,
     "end_time": "2021-11-06T15:43:23.839241",
     "exception": false,
     "start_time": "2021-11-06T15:43:21.117781",
     "status": "completed"
    },
    "tags": []
   },
   "outputs": [
    {
     "data": {
      "text/plain": [
       "\"\\nfor a,b,c in [(x,y,z) for x in optimizer for z in activation for y in kernel_initializer]:\\n    params = {'optimizer' : a , 'kernel_initializer' : b , 'activation' : c}\\n    print(params)\\n    fit_model(a, b, c, epochs)\\n    \""
      ]
     },
     "execution_count": 48,
     "metadata": {},
     "output_type": "execute_result"
    }
   ],
   "source": [
    "epochs = 5\n",
    "batch_size = 20 # 20 divides the training data samples\n",
    "\n",
    "#creating the models with different hyperparameters\n",
    "\"\"\"\n",
    "for a,b,c in [(x,y,z) for x in optimizer for z in activation for y in kernel_initializer]:\n",
    "    params = {'optimizer' : a , 'kernel_initializer' : b , 'activation' : c}\n",
    "    print(params)\n",
    "    fit_model(a, b, c, epochs)\n",
    "    \"\"\"\n"
   ]
  },
  {
   "cell_type": "code",
   "execution_count": 49,
   "id": "6780bd41",
   "metadata": {
    "execution": {
     "iopub.execute_input": "2021-11-06T15:43:29.324081Z",
     "iopub.status.busy": "2021-11-06T15:43:29.323382Z",
     "iopub.status.idle": "2021-11-06T15:43:29.335476Z",
     "shell.execute_reply": "2021-11-06T15:43:29.336033Z",
     "shell.execute_reply.started": "2021-11-04T20:50:48.253734Z"
    },
    "papermill": {
     "duration": 2.743018,
     "end_time": "2021-11-06T15:43:29.336233",
     "exception": false,
     "start_time": "2021-11-06T15:43:26.593215",
     "status": "completed"
    },
    "tags": []
   },
   "outputs": [],
   "source": [
    "def fit_model(opt, kernel_init, activation,epochs, batch_size=20):\n",
    "    \n",
    "    kernel_initializer = kernel_init\n",
    "    model = models.Sequential()\n",
    "    model.add(layers.BatchNormalization(input_shape=(32, 32, 4)))\n",
    "    model.add(layers.Conv2D(8, (3, 3),padding='same', activation=activation, kernel_initializer=kernel_initializer))\n",
    "    model.add(layers.MaxPooling2D((2, 2)))\n",
    "    #model.add(layers.Dropout(0.2))\n",
    "\n",
    "    model.add(layers.BatchNormalization())\n",
    "    model.add(layers.Conv2D(16, (3, 3),padding='same', activation=activation, kernel_initializer=kernel_initializer))\n",
    "    model.add(layers.MaxPooling2D((2, 2)))\n",
    "    model.add(layers.Dropout(0.2))\n",
    "\n",
    "    #AveragePooling2D\n",
    "\n",
    "    model.add(layers.BatchNormalization())\n",
    "    model.add(layers.Conv2D(32, (3, 3),padding='same', activation=activation, kernel_initializer=kernel_initializer))\n",
    "    #model.add(layers.Dropout(0.2))\n",
    "    model.add(layers.MaxPooling2D((2, 2)))\n",
    "\n",
    "    model.add(layers.BatchNormalization())\n",
    "    model.add(layers.Conv2D(64, (3, 3),padding='same', activation=activation,kernel_initializer=kernel_initializer))\n",
    "    #model.add(layers.BatchNormalization())\n",
    "    #model.add(layers.Dropout(0.2))\n",
    "    model.add(layers.MaxPooling2D((2, 2)))\n",
    "\n",
    "    #model.add(layers.Flatten())\n",
    "    model.add(layers.GlobalAveragePooling2D())\n",
    "    #model.add(layers.Dense(32, activation='relu'))\n",
    "\n",
    "\n",
    "    model.add(layers.Dense(28, activation=tf.nn.softmax))\n",
    "\n",
    "\n",
    "    model.compile(optimizer=opt,\n",
    "                  loss=tf.keras.losses.SparseCategoricalCrossentropy(),\n",
    "                  metrics=['accuracy'])\n",
    "\n",
    "    model.fit(X_train, y_train, epochs=epochs, validation_data=(X_test, y_test) )\n",
    "                        #validation_data=(test_images, test_labels))\n"
   ]
  },
  {
   "cell_type": "code",
   "execution_count": null,
   "id": "a8f16ac9",
   "metadata": {
    "papermill": {
     "duration": 2.724619,
     "end_time": "2021-11-06T15:43:34.818966",
     "exception": false,
     "start_time": "2021-11-06T15:43:32.094347",
     "status": "completed"
    },
    "tags": []
   },
   "outputs": [],
   "source": []
  }
 ],
 "metadata": {
  "kernelspec": {
   "display_name": "Python 3",
   "language": "python",
   "name": "python3"
  },
  "language_info": {
   "codemirror_mode": {
    "name": "ipython",
    "version": 3
   },
   "file_extension": ".py",
   "mimetype": "text/x-python",
   "name": "python",
   "nbconvert_exporter": "python",
   "pygments_lexer": "ipython3",
   "version": "3.7.10"
  },
  "papermill": {
   "default_parameters": {},
   "duration": 981.957541,
   "end_time": "2021-11-06T15:43:40.565810",
   "environment_variables": {},
   "exception": null,
   "input_path": "__notebook__.ipynb",
   "output_path": "__notebook__.ipynb",
   "parameters": {},
   "start_time": "2021-11-06T15:27:18.608269",
   "version": "2.3.3"
  }
 },
 "nbformat": 4,
 "nbformat_minor": 5
}
